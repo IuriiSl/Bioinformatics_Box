{
 "cells": [
  {
   "cell_type": "markdown",
   "id": "abc3105b-83b5-42d7-99e1-44562b76ecd6",
   "metadata": {},
   "source": [
    "# Examples of module operation"
   ]
  },
  {
   "cell_type": "markdown",
   "id": "926f655d-6111-469c-972c-c63927602500",
   "metadata": {},
   "source": [
    "## Custom Random Forest"
   ]
  },
  {
   "cell_type": "code",
   "execution_count": 1,
   "id": "4bc4a792-3251-45cd-be45-fbd358f647a6",
   "metadata": {},
   "outputs": [],
   "source": [
    "import numpy as np\n",
    "from custom_random_forest import RandomForestClassifierCustom\n",
    "from sklearn.datasets import make_classification\n"
   ]
  },
  {
   "cell_type": "code",
   "execution_count": 2,
   "id": "d7b92fc0-60ca-4f20-83c8-60ede7c806d9",
   "metadata": {},
   "outputs": [],
   "source": [
    "X, y = make_classification(n_samples=1000000)\n",
    "random_forest = RandomForestClassifierCustom(max_depth=30, n_estimators=30, \n",
    "                                             max_features=2, random_state=42)"
   ]
  },
  {
   "cell_type": "code",
   "execution_count": 3,
   "id": "ff115ce6-53be-49d5-afc2-a69decc28303",
   "metadata": {},
   "outputs": [
    {
     "name": "stdout",
     "output_type": "stream",
     "text": [
      "CPU times: total: 359 ms\n",
      "Wall time: 3min 12s\n"
     ]
    },
    {
     "data": {
      "text/html": [
       "<style>#sk-container-id-1 {color: black;background-color: white;}#sk-container-id-1 pre{padding: 0;}#sk-container-id-1 div.sk-toggleable {background-color: white;}#sk-container-id-1 label.sk-toggleable__label {cursor: pointer;display: block;width: 100%;margin-bottom: 0;padding: 0.3em;box-sizing: border-box;text-align: center;}#sk-container-id-1 label.sk-toggleable__label-arrow:before {content: \"▸\";float: left;margin-right: 0.25em;color: #696969;}#sk-container-id-1 label.sk-toggleable__label-arrow:hover:before {color: black;}#sk-container-id-1 div.sk-estimator:hover label.sk-toggleable__label-arrow:before {color: black;}#sk-container-id-1 div.sk-toggleable__content {max-height: 0;max-width: 0;overflow: hidden;text-align: left;background-color: #f0f8ff;}#sk-container-id-1 div.sk-toggleable__content pre {margin: 0.2em;color: black;border-radius: 0.25em;background-color: #f0f8ff;}#sk-container-id-1 input.sk-toggleable__control:checked~div.sk-toggleable__content {max-height: 200px;max-width: 100%;overflow: auto;}#sk-container-id-1 input.sk-toggleable__control:checked~label.sk-toggleable__label-arrow:before {content: \"▾\";}#sk-container-id-1 div.sk-estimator input.sk-toggleable__control:checked~label.sk-toggleable__label {background-color: #d4ebff;}#sk-container-id-1 div.sk-label input.sk-toggleable__control:checked~label.sk-toggleable__label {background-color: #d4ebff;}#sk-container-id-1 input.sk-hidden--visually {border: 0;clip: rect(1px 1px 1px 1px);clip: rect(1px, 1px, 1px, 1px);height: 1px;margin: -1px;overflow: hidden;padding: 0;position: absolute;width: 1px;}#sk-container-id-1 div.sk-estimator {font-family: monospace;background-color: #f0f8ff;border: 1px dotted black;border-radius: 0.25em;box-sizing: border-box;margin-bottom: 0.5em;}#sk-container-id-1 div.sk-estimator:hover {background-color: #d4ebff;}#sk-container-id-1 div.sk-parallel-item::after {content: \"\";width: 100%;border-bottom: 1px solid gray;flex-grow: 1;}#sk-container-id-1 div.sk-label:hover label.sk-toggleable__label {background-color: #d4ebff;}#sk-container-id-1 div.sk-serial::before {content: \"\";position: absolute;border-left: 1px solid gray;box-sizing: border-box;top: 0;bottom: 0;left: 50%;z-index: 0;}#sk-container-id-1 div.sk-serial {display: flex;flex-direction: column;align-items: center;background-color: white;padding-right: 0.2em;padding-left: 0.2em;position: relative;}#sk-container-id-1 div.sk-item {position: relative;z-index: 1;}#sk-container-id-1 div.sk-parallel {display: flex;align-items: stretch;justify-content: center;background-color: white;position: relative;}#sk-container-id-1 div.sk-item::before, #sk-container-id-1 div.sk-parallel-item::before {content: \"\";position: absolute;border-left: 1px solid gray;box-sizing: border-box;top: 0;bottom: 0;left: 50%;z-index: -1;}#sk-container-id-1 div.sk-parallel-item {display: flex;flex-direction: column;z-index: 1;position: relative;background-color: white;}#sk-container-id-1 div.sk-parallel-item:first-child::after {align-self: flex-end;width: 50%;}#sk-container-id-1 div.sk-parallel-item:last-child::after {align-self: flex-start;width: 50%;}#sk-container-id-1 div.sk-parallel-item:only-child::after {width: 0;}#sk-container-id-1 div.sk-dashed-wrapped {border: 1px dashed gray;margin: 0 0.4em 0.5em 0.4em;box-sizing: border-box;padding-bottom: 0.4em;background-color: white;}#sk-container-id-1 div.sk-label label {font-family: monospace;font-weight: bold;display: inline-block;line-height: 1.2em;}#sk-container-id-1 div.sk-label-container {text-align: center;}#sk-container-id-1 div.sk-container {/* jupyter's `normalize.less` sets `[hidden] { display: none; }` but bootstrap.min.css set `[hidden] { display: none !important; }` so we also need the `!important` here to be able to override the default hidden behavior on the sphinx rendered scikit-learn.org. See: https://github.com/scikit-learn/scikit-learn/issues/21755 */display: inline-block !important;position: relative;}#sk-container-id-1 div.sk-text-repr-fallback {display: none;}</style><div id=\"sk-container-id-1\" class=\"sk-top-container\"><div class=\"sk-text-repr-fallback\"><pre>RandomForestClassifierCustom(max_depth=30, max_features=2, n_estimators=30)</pre><b>In a Jupyter environment, please rerun this cell to show the HTML representation or trust the notebook. <br />On GitHub, the HTML representation is unable to render, please try loading this page with nbviewer.org.</b></div><div class=\"sk-container\" hidden><div class=\"sk-item\"><div class=\"sk-estimator sk-toggleable\"><input class=\"sk-toggleable__control sk-hidden--visually\" id=\"sk-estimator-id-1\" type=\"checkbox\" checked><label for=\"sk-estimator-id-1\" class=\"sk-toggleable__label sk-toggleable__label-arrow\">RandomForestClassifierCustom</label><div class=\"sk-toggleable__content\"><pre>RandomForestClassifierCustom(max_depth=30, max_features=2, n_estimators=30)</pre></div></div></div></div></div>"
      ],
      "text/plain": [
       "RandomForestClassifierCustom(max_depth=30, max_features=2, n_estimators=30)"
      ]
     },
     "execution_count": 3,
     "metadata": {},
     "output_type": "execute_result"
    }
   ],
   "source": [
    "%%time\n",
    "\n",
    "random_forest.fit(X, y)"
   ]
  },
  {
   "cell_type": "code",
   "execution_count": 4,
   "id": "4897aec5-57ed-4ec1-a905-7a1d5825be0c",
   "metadata": {},
   "outputs": [
    {
     "name": "stdout",
     "output_type": "stream",
     "text": [
      "CPU times: total: 1.17 s\n",
      "Wall time: 1min 56s\n"
     ]
    },
    {
     "data": {
      "text/html": [
       "<style>#sk-container-id-2 {color: black;background-color: white;}#sk-container-id-2 pre{padding: 0;}#sk-container-id-2 div.sk-toggleable {background-color: white;}#sk-container-id-2 label.sk-toggleable__label {cursor: pointer;display: block;width: 100%;margin-bottom: 0;padding: 0.3em;box-sizing: border-box;text-align: center;}#sk-container-id-2 label.sk-toggleable__label-arrow:before {content: \"▸\";float: left;margin-right: 0.25em;color: #696969;}#sk-container-id-2 label.sk-toggleable__label-arrow:hover:before {color: black;}#sk-container-id-2 div.sk-estimator:hover label.sk-toggleable__label-arrow:before {color: black;}#sk-container-id-2 div.sk-toggleable__content {max-height: 0;max-width: 0;overflow: hidden;text-align: left;background-color: #f0f8ff;}#sk-container-id-2 div.sk-toggleable__content pre {margin: 0.2em;color: black;border-radius: 0.25em;background-color: #f0f8ff;}#sk-container-id-2 input.sk-toggleable__control:checked~div.sk-toggleable__content {max-height: 200px;max-width: 100%;overflow: auto;}#sk-container-id-2 input.sk-toggleable__control:checked~label.sk-toggleable__label-arrow:before {content: \"▾\";}#sk-container-id-2 div.sk-estimator input.sk-toggleable__control:checked~label.sk-toggleable__label {background-color: #d4ebff;}#sk-container-id-2 div.sk-label input.sk-toggleable__control:checked~label.sk-toggleable__label {background-color: #d4ebff;}#sk-container-id-2 input.sk-hidden--visually {border: 0;clip: rect(1px 1px 1px 1px);clip: rect(1px, 1px, 1px, 1px);height: 1px;margin: -1px;overflow: hidden;padding: 0;position: absolute;width: 1px;}#sk-container-id-2 div.sk-estimator {font-family: monospace;background-color: #f0f8ff;border: 1px dotted black;border-radius: 0.25em;box-sizing: border-box;margin-bottom: 0.5em;}#sk-container-id-2 div.sk-estimator:hover {background-color: #d4ebff;}#sk-container-id-2 div.sk-parallel-item::after {content: \"\";width: 100%;border-bottom: 1px solid gray;flex-grow: 1;}#sk-container-id-2 div.sk-label:hover label.sk-toggleable__label {background-color: #d4ebff;}#sk-container-id-2 div.sk-serial::before {content: \"\";position: absolute;border-left: 1px solid gray;box-sizing: border-box;top: 0;bottom: 0;left: 50%;z-index: 0;}#sk-container-id-2 div.sk-serial {display: flex;flex-direction: column;align-items: center;background-color: white;padding-right: 0.2em;padding-left: 0.2em;position: relative;}#sk-container-id-2 div.sk-item {position: relative;z-index: 1;}#sk-container-id-2 div.sk-parallel {display: flex;align-items: stretch;justify-content: center;background-color: white;position: relative;}#sk-container-id-2 div.sk-item::before, #sk-container-id-2 div.sk-parallel-item::before {content: \"\";position: absolute;border-left: 1px solid gray;box-sizing: border-box;top: 0;bottom: 0;left: 50%;z-index: -1;}#sk-container-id-2 div.sk-parallel-item {display: flex;flex-direction: column;z-index: 1;position: relative;background-color: white;}#sk-container-id-2 div.sk-parallel-item:first-child::after {align-self: flex-end;width: 50%;}#sk-container-id-2 div.sk-parallel-item:last-child::after {align-self: flex-start;width: 50%;}#sk-container-id-2 div.sk-parallel-item:only-child::after {width: 0;}#sk-container-id-2 div.sk-dashed-wrapped {border: 1px dashed gray;margin: 0 0.4em 0.5em 0.4em;box-sizing: border-box;padding-bottom: 0.4em;background-color: white;}#sk-container-id-2 div.sk-label label {font-family: monospace;font-weight: bold;display: inline-block;line-height: 1.2em;}#sk-container-id-2 div.sk-label-container {text-align: center;}#sk-container-id-2 div.sk-container {/* jupyter's `normalize.less` sets `[hidden] { display: none; }` but bootstrap.min.css set `[hidden] { display: none !important; }` so we also need the `!important` here to be able to override the default hidden behavior on the sphinx rendered scikit-learn.org. See: https://github.com/scikit-learn/scikit-learn/issues/21755 */display: inline-block !important;position: relative;}#sk-container-id-2 div.sk-text-repr-fallback {display: none;}</style><div id=\"sk-container-id-2\" class=\"sk-top-container\"><div class=\"sk-text-repr-fallback\"><pre>RandomForestClassifierCustom(max_depth=30, max_features=2, n_estimators=30)</pre><b>In a Jupyter environment, please rerun this cell to show the HTML representation or trust the notebook. <br />On GitHub, the HTML representation is unable to render, please try loading this page with nbviewer.org.</b></div><div class=\"sk-container\" hidden><div class=\"sk-item\"><div class=\"sk-estimator sk-toggleable\"><input class=\"sk-toggleable__control sk-hidden--visually\" id=\"sk-estimator-id-2\" type=\"checkbox\" checked><label for=\"sk-estimator-id-2\" class=\"sk-toggleable__label sk-toggleable__label-arrow\">RandomForestClassifierCustom</label><div class=\"sk-toggleable__content\"><pre>RandomForestClassifierCustom(max_depth=30, max_features=2, n_estimators=30)</pre></div></div></div></div></div>"
      ],
      "text/plain": [
       "RandomForestClassifierCustom(max_depth=30, max_features=2, n_estimators=30)"
      ]
     },
     "execution_count": 4,
     "metadata": {},
     "output_type": "execute_result"
    }
   ],
   "source": [
    "%%time\n",
    "\n",
    "random_forest.fit(X, y, n_jobs = 2)"
   ]
  },
  {
   "cell_type": "code",
   "execution_count": 5,
   "id": "71702eda-5bf5-4c31-9f28-c7fccec4e0a0",
   "metadata": {},
   "outputs": [
    {
     "name": "stdout",
     "output_type": "stream",
     "text": [
      "CPU times: total: 609 ms\n",
      "Wall time: 6.55 s\n"
     ]
    }
   ],
   "source": [
    "%%time\n",
    "\n",
    "predict_one_proc = random_forest.predict(X)"
   ]
  },
  {
   "cell_type": "code",
   "execution_count": 6,
   "id": "98ef3322-c908-43b3-ac2b-ee1aeed96719",
   "metadata": {},
   "outputs": [
    {
     "name": "stdout",
     "output_type": "stream",
     "text": [
      "CPU times: total: 1.02 s\n",
      "Wall time: 4.82 s\n"
     ]
    }
   ],
   "source": [
    "%%time\n",
    "\n",
    "predict_two_proc = random_forest.predict(X, n_jobs = 2)"
   ]
  },
  {
   "cell_type": "code",
   "execution_count": 7,
   "id": "a606b48e-93f3-4ab2-86b2-e51656822638",
   "metadata": {},
   "outputs": [
    {
     "data": {
      "text/plain": [
       "True"
      ]
     },
     "execution_count": 7,
     "metadata": {},
     "output_type": "execute_result"
    }
   ],
   "source": [
    "np.array_equal(predict_one_proc, predict_two_proc)"
   ]
  },
  {
   "cell_type": "markdown",
   "id": "69389b42-4d81-443c-a335-188c3fb4b36f",
   "metadata": {},
   "source": [
    "## Custom Genscan API"
   ]
  },
  {
   "cell_type": "code",
   "execution_count": 8,
   "id": "2011164d-d28e-414f-8696-8cacce107a49",
   "metadata": {},
   "outputs": [],
   "source": [
    "from bioinformatics_toolkit import run_genscan"
   ]
  },
  {
   "cell_type": "code",
   "execution_count": 9,
   "id": "e6a476c2-ba5d-46a5-94d9-9a3ccaf3ddec",
   "metadata": {},
   "outputs": [],
   "source": [
    "genscan_result = run_genscan(sequence_file = './data/sequence.txt', exon_cutoff = 0.5)"
   ]
  },
  {
   "cell_type": "code",
   "execution_count": 10,
   "id": "5c510db3-95d9-46e6-a1d9-30f4c03a22f3",
   "metadata": {},
   "outputs": [
    {
     "data": {
      "text/plain": [
       "[{1: {'Type': 'Intr', 'Begin': 696, 'End': 779}},\n",
       " {2: {'Type': 'Intr', 'Begin': 3570, 'End': 3818}},\n",
       " {3: {'Type': 'Intr', 'Begin': 10735, 'End': 10775}},\n",
       " {4: {'Type': 'Intr', 'Begin': 10992, 'End': 11106}},\n",
       " {5: {'Type': 'Intr', 'Begin': 13936, 'End': 13985}},\n",
       " {6: {'Type': 'Intr', 'Begin': 15412, 'End': 15523}},\n",
       " {7: {'Type': 'Intr', 'Begin': 16765, 'End': 17880}},\n",
       " {8: {'Type': 'Intr', 'Begin': 19361, 'End': 19450}},\n",
       " {9: {'Type': 'Intr', 'Begin': 20758, 'End': 25689}},\n",
       " {10: {'Type': 'Intr', 'Begin': 31320, 'End': 31389}},\n",
       " {11: {'Type': 'Intr', 'Begin': 39354, 'End': 39781}},\n",
       " {12: {'Type': 'Intr', 'Begin': 40921, 'End': 41102}},\n",
       " {13: {'Type': 'Intr', 'Begin': 42235, 'End': 42422}},\n",
       " {14: {'Type': 'Intr', 'Begin': 47672, 'End': 48026}},\n",
       " {15: {'Type': 'Intr', 'Begin': 54895, 'End': 55050}},\n",
       " {16: {'Type': 'Intr', 'Begin': 55449, 'End': 55593}},\n",
       " {17: {'Type': 'Intr', 'Begin': 61163, 'End': 61284}},\n",
       " {18: {'Type': 'Intr', 'Begin': 63810, 'End': 64008}},\n",
       " {19: {'Type': 'Intr', 'Begin': 64243, 'End': 64406}},\n",
       " {20: {'Type': 'Intr', 'Begin': 64500, 'End': 64638}},\n",
       " {21: {'Type': 'Term', 'Begin': 69407, 'End': 69951}},\n",
       " {22: {'Type': 'PlyA', 'Begin': 70166, 'End': 70171}},\n",
       " {0: {'Type': 'Prom', 'Begin': 70210, 'End': 70249}},\n",
       " {1: {'Type': 'Init', 'Begin': 70523, 'End': 70544}},\n",
       " {2: {'Type': 'Intr', 'Begin': 79209, 'End': 79426}},\n",
       " {3: {'Type': 'Intr', 'Begin': 81391, 'End': 81537}},\n",
       " {4: {'Type': 'Term', 'Begin': 82655, 'End': 83263}},\n",
       " {5: {'Type': 'PlyA', 'Begin': 83281, 'End': 83286}}]"
      ]
     },
     "execution_count": 10,
     "metadata": {},
     "output_type": "execute_result"
    }
   ],
   "source": [
    "genscan_result.exon_list"
   ]
  },
  {
   "cell_type": "code",
   "execution_count": 11,
   "id": "5880df5f-b341-496d-a55d-2c910f5ff0be",
   "metadata": {},
   "outputs": [
    {
     "data": {
      "text/plain": [
       "[{1: {'Begin': 780, 'End': 3569}},\n",
       " {2: {'Begin': 3819, 'End': 10734}},\n",
       " {3: {'Begin': 10776, 'End': 10991}},\n",
       " {4: {'Begin': 11107, 'End': 13935}},\n",
       " {5: {'Begin': 13986, 'End': 15411}},\n",
       " {6: {'Begin': 15524, 'End': 16764}},\n",
       " {7: {'Begin': 17881, 'End': 19360}},\n",
       " {8: {'Begin': 19451, 'End': 20757}},\n",
       " {9: {'Begin': 25690, 'End': 31319}},\n",
       " {10: {'Begin': 31390, 'End': 39353}},\n",
       " {11: {'Begin': 39782, 'End': 40920}},\n",
       " {12: {'Begin': 41103, 'End': 42234}},\n",
       " {13: {'Begin': 42423, 'End': 47671}},\n",
       " {14: {'Begin': 48027, 'End': 54894}},\n",
       " {15: {'Begin': 55051, 'End': 55448}},\n",
       " {16: {'Begin': 55594, 'End': 61162}},\n",
       " {17: {'Begin': 61285, 'End': 63809}},\n",
       " {18: {'Begin': 64009, 'End': 64242}},\n",
       " {19: {'Begin': 64407, 'End': 64499}},\n",
       " {20: {'Begin': 64639, 'End': 70522}},\n",
       " {21: {'Begin': 70545, 'End': 79208}},\n",
       " {22: {'Begin': 79427, 'End': 81390}}]"
      ]
     },
     "execution_count": 11,
     "metadata": {},
     "output_type": "execute_result"
    }
   ],
   "source": [
    "genscan_result.intron_list"
   ]
  },
  {
   "cell_type": "code",
   "execution_count": 12,
   "id": "38db4e3c-c624-405d-a251-16710d6cbdf0",
   "metadata": {},
   "outputs": [
    {
     "data": {
      "text/plain": [
       "['XALATFRVLNVASGTGLDSTAVKCSHPHNLGPISLNWFEELSSEAPPYNSEPAEESEHKNNNYEPNLFKTPQRKPSYNQLASTPIIFKEQGLTLPLYQSPVKELDKFKLDLVVCGSLFHTPKFVKGRQTPKHISESLGAEVDPDMSWSSSLATPPTLSSTVLIVRNEEASETVFPHDTTANVKSYFSNHDESLKKNDRFIASVTDSENTNQREAASHGFGKTSGNSFKVNSCKDHIGKSMPNVLEDEVYETVVDTSEEDSFSLCFSKCRTKNLQKVRTSKTRKKIFHEANADECEKSKNQVKEKYSFVSEVEPNDTDPLDSNVANQKPFESGSDKISKEVVPSLACEWSQLTLSGLNGAQMEKIPLLHISSCDQNISEKDLLDTENKRKKDFLTSENSLPRISSLPKSEKPLNEETVVNKRDEEQHLESHTDCILAVKQAISGTSPVASSFQGIKKSIFRIRESPKETFNASFSGHMTDPNFKKETEASESGLEIHTVCSQKEDSLCPNLIDNGSWPATTTQNSVALKNAGLISTLKKKTNKFIYAIHDETSYKGKKIPKDQKSELINCSAQFEANAFEAPLTFANADSVHLATKLYVYKVILSPYEKTLVNSSVNSRVGLLHSSVKRSCSQNDSEEPTLSLTSSFGTILRKCSRNETCSNNTVISQDLDYKEAKCNKEKLQLFITPEADSLSCLQEGQCENDPKSKKVSDIKEEVLAAACHPVQHSKVEYSDTDFQSQKSLLYDHENASTLILTPTSKDVLSNLVMISRGKESYKMSDKLKGNNYESDVELTKNIPMEKNQDVCALNENYKNVELLPPEKYMRVASPSRKVQFNQNTNLRVIQKNQEETTSISKITVNPDSEELFSDNENNFVFQVANERNNLALGNTKELHETDLTCVNEPIFKNSTMVLYGDTGDKQATQVSIKKDLVYVLAEENKNSVKQHIKMTLGQDLKSDISLNIDKIPEKNNDYMNKWAGLLGPISNHSFGGSFRTASNKEIKLSEHNIKKSKMFFKDIEEQYPTSLACVEIVNTLALDNQKKLSKPQSINTVSAHLQSSVVVSDCKNSHITPQMLFSKQDFNSNHNLTPSQKAEITELSTILEESGSQFEFTQFRKPSYILQKSTFEVPENQMTILKTTSEECRDADLHVIMNAPSIGQVDSSKQFEGTVEIKRKFAGLLKNDCNKSASGYLTDENEVGFRGFYSAHGTKLNVSTEALQKAVKLFSDIENISEETSAEVHPISLSSSKCHDSVVSMFKIENHNDKTVSEKNNKCQLILQNNIEMTTGTFVEEITENYKRNTENEDNKYTAASRNSHNLEFDGSDSSKNDTVCIHKDETDLLFTDQHNICLKLSGQFMKEGNTQIKEDLSDLTFLEVAKAQEACHGNTSNKEQLTATKTEQNIKDFETSDTFFQTASGKNISVAKESFNKIVNFFDQKPEELHNFSLNSELHSDIRKNKMDILSYEETDIVKHKILKESVPVGTGNQLVTFQGQPERDEKIKEPTLLGFHTASGKKVKIAKESLDKVKNLFDEKEQGTSEITSFSHQWAKTLKYREACKDLELACETIEITAAPKCKEMQNSLNNDKNLVSIETVVPPKLLSDNLCRQTENLKTSKSIFLKVKVHENVEKETAKSPATCYTNQSPYSVIENSALAFYTSCSRKTSVSQTSLLEAKKWLREGIFDGQPERINTADYVGNYLYENNSNSTIAENDKNHLSEKQDTYLSNSSMSNSYSYHSDEVYNDSGYLSKNKLDSGIEPVLKNVEDQKNTSFSKVISNVKDANAYPQTVNEDICVEELVTSSSPCKNKNAAIKLSISNSNNFEVGPPAFRIASGKIVCVSHETIKKVKDIFTDSFSKVIKENNENKSKICQTKIMAGCYEALDDSEDILHNSLDNDECSTHSHKVFADIQSEEILQHNQNMSGLEKVSKISPCDVSLETSDICKCSIGKLHKSVSSANTCGIFSTASGKSVQVSDASLQNARQVFSEIEDSTKQVFSKVLFKSNEHSDQLTREENTAIRTPEHLISQKGFSYNVVNSSAFSGFSTASGKQVSILESSLHKVKGVLEEFDLIRTEHSLHYSPTSRQNVSKILPRVDKRNPEHCVNSEMEKTCSKEFKLSNNLNVEGGSSENNHSIKVSPYLSQFQQDKQQLVLGTKVSLVENIHVLGKEQASPKNVKMEIGKTETFSDVPVKTNIEVCSTYSKDSENYFETEAVEIAKAFMEDDELTDSKLPSHATHSLFTCPENEEMVLSNSRIGKRRGEPLILVGTIKDRRLFMHHVSLEPITCVPFRTTKERQEIQNPNFTAPGQEFLSKSHLYEHLTLEKSSSNLAVSGHPFYQVSATRNEKMRHLITTGRPTKVFVPPFKTKSHFHRVEQCVRNINLEENRQKQNIDGHGSDDSKNKINDNEIHQFNKNNSNQAVAVTFTKCEEEPLDLITSLQNARDIQDMRIKKKQRQRVFPQPGSLYLAKTSTLPRISLKAAVGGQVPSACSHKQLYTYGVSKHCIKINSKNAESFQFHTEDYFGKESLWTGKGIQLADGGWLIPSNDGKAGKEEFYRYDTEIDRSRRSAIKKIMERDDTAAKTLVLCVSDIISLSANISETSSNKTSSADTQKVAIIELTDGWYAVKAQLDPPLLAVLKNGRLTVGQKIILHGAELVGSPDACTPLEAPESLMLKISANSTRPARWYTKLGFFPDPRPFPLPLSSLFSDGGNVGCVDVIIQRAYPIQWMEKTSSGLYIFRNEREEEKEAAKYVEAQQKRLEALFTKIQEEFEEHEENTTKPYLPSRALTRQQVRALQDGAELYEAVKNAADPAYLEGYFSEEQLRALNNHRQMLNDKKQAQIQLEIRKAMESAEQKEQGLSRDVTTVWKLRIVSYSKKEKDSVILSIWRPSSDLYSLLTEGKRYRIYHLATSKSKSKSERANIQLAATKKTQYQQLPVSDEILFQIYQPREPLHFSKFLDPDFQPSCSEVDLIGFVVSVVKKTERRCQSDLRSLVTWGNFAWVYYHMGRLAETQTYLDKVENICKKFSSPFCHRMECPEMDCEEERALLECGGKNYEQAKACFEKDLAVAAENPELNTGYEITACRLDGFKLATGDHKSFSLPTLRQAVRLNVDDRYSKVLLALKLWDEGQEAEGEKYFEGALANTSMQTFVFGYVFGYVFSSY',\n",
       " 'MNEALEYYECYNLLAIKFWIDLNEDIIKPHMLIAASNLQWRPESKSGLLTLFAGDFSVFSASPKEGHFQETFNKMKNTVENIDILCNEAENKLMHILHANDPKWSTPTKDCTSGPYTAQIIPGTGNKLLMSSPNCEIYYQSPLSLCMAKRKSVSTPVSAQMTSKSCKGEKEIDDQKNCKKRRALDFLSRLPLPPPVSPICTFVSPAAQKAFQPPRSCGTKYETPIKKKELNSPQMTPFKKFNEISLLESNSIADEELALINTQALLSGSTGEKQFISVSESTRTAPTSSEDYLRLKRRCTTSLIKEQESSQASTEECEKNKQDTITTKKYI']"
      ]
     },
     "execution_count": 12,
     "metadata": {},
     "output_type": "execute_result"
    }
   ],
   "source": [
    "genscan_result.cds_list"
   ]
  },
  {
   "cell_type": "markdown",
   "id": "44995d60-6372-4f3e-84c0-b8f1fcdf33e6",
   "metadata": {},
   "source": [
    "## OpenFasta context manager"
   ]
  },
  {
   "cell_type": "code",
   "execution_count": 13,
   "id": "df5c2f07-4cf1-40d4-baf4-cf369399615a",
   "metadata": {},
   "outputs": [],
   "source": [
    "from bio_files_processor import OpenFasta"
   ]
  },
  {
   "cell_type": "code",
   "execution_count": 14,
   "id": "856aa1f9-05d6-448d-ac9c-e8534e16f252",
   "metadata": {},
   "outputs": [
    {
     "name": "stdout",
     "output_type": "stream",
     "text": [
      "id = GTD323452\n",
      "description = 5S_rRNA NODE_272_length_223_cov_0.720238:18-129(+)\n",
      "sequence = ACGGCCATAGGACTTTGAAAGCACCGCATCCCGTCCGATCTGCGAAGTTAACCAAGATGCCGCCTGGTTAGTACCATGGTGGGGGACCACATGGGAATCCCTGGTGCTGTG\n",
      "id = GTD678345\n",
      "description = 16S_rRNA NODE_80_length_720_cov_1.094737:313-719(+)\n",
      "sequence = TTGGCTTCTTAGAGGGACTTTTGATGTTTAATCAAAGGAAGTTTGAGGCAATAACAGGTCTGTGATGCCCTTAGATGTTCTGGGCCGCACGCGCGCTACACTGAGCCCTTGGGAGTGGTCCATTTGAGCCGGCAACGGCACGTTTGGACTGCAAACTTGGGCAAACTTGGTCATTTAGAGGAAGTAAAAGTCGTAACAAGGT\n",
      "id = GTD174893\n",
      "description = 16S_rRNA NODE_1_length_2558431_cov_75.185164:2153860-2155398(+)\n",
      "sequence = TTGAAGAGTTTGATCATGGCTCAGATTGAACGCTGGCGGCAGGCCTAACACATGCAAGTCGAACGGTAACAGGAAACAGCTTGCTGTTTCGCTGACGAGTGGGAAGTAGGTAGCTTAACCTTCGGGAGGGCGCTTACCACTTTGTGATTCATGACTGGGGTGAAGTCGTAACAAGGTAACCGTAGGGGAACCTGCGGTTGGATCACCTCCTT\n",
      "id = GTD906783\n",
      "description = 16S_rRNA NODE_1_length_2558431_cov_75.185164:793941-795479(-)\n",
      "sequence = TTGAAGAGTTTGATCATGGCTCAGATTGAACGCTGGCGGCAGGCCTAACACATGCAAGTCGAACGGTAACAGGAAACAGCTTGCTGTTTCGCTGACGAGTGGGAAGTAGGTAGCTTAACCTTCGGGAGGGCGCTTACCACTTTGTGATTCATGACTGGGGTGAAGTCGTAACAAGGTAACCGTAGGGGAACCTGCGGTTGGATCACCTCCTT\n",
      "id = GTD129563\n",
      "description = 16S_rRNA NODE_4_length_428221_cov_75.638017:281055-282593(-)\n",
      "sequence = CGGACGGGTGAGTAATGTCTGGGAAACTGCCTGATGGAGGGGGATAACTACTGGAAACGGTAGCTAATACCGCATAACGTCGCAAGACCAAAGAGGGGGACCGAAGTAGGTAGCTTAACCTTCGGGAGGGCGCTTACCACTTTGTGATTCATGACTGGGGTGAAGTCGTAACAAGGTAACCGTAGGGGAACCTGCGGTTGGATCACCTCCTT\n"
     ]
    }
   ],
   "source": [
    "fasta_file_path = './data/example_fasta.fasta'\n",
    "with OpenFasta(fasta_file_path) as fasta_file:\n",
    "    print(fasta_file.read_record())\n",
    "    print(fasta_file.read_record())\n",
    "    print(fasta_file.read_record())\n",
    "    print(fasta_file.read_record())\n",
    "    print(fasta_file.read_record())\n"
   ]
  },
  {
   "cell_type": "markdown",
   "id": "8581bd55-57c0-483c-9837-7aa6e9683670",
   "metadata": {},
   "source": [
    "## Biological Sequence API"
   ]
  },
  {
   "cell_type": "code",
   "execution_count": 15,
   "id": "f5cb99d8-2df6-45bf-bb0e-287e93da988f",
   "metadata": {},
   "outputs": [],
   "source": [
    "from bioinformatics_toolkit import DNASequence, RNASequence, AminoAcidSequence"
   ]
  },
  {
   "cell_type": "markdown",
   "id": "fc4596dc-2a12-4733-89d3-4f6bac7d5d60",
   "metadata": {},
   "source": [
    "### DNASequence"
   ]
  },
  {
   "cell_type": "code",
   "execution_count": 16,
   "id": "686131eb-be22-412f-b7e4-7a0655596678",
   "metadata": {},
   "outputs": [],
   "source": [
    "with OpenFasta(fasta_file_path) as fasta_file:\n",
    "    first_record = fasta_file.read_record()\n",
    "    my_DNA_seq = first_record.seq"
   ]
  },
  {
   "cell_type": "code",
   "execution_count": 17,
   "id": "f8033097-48df-4aa1-87c6-fb3faecb04d9",
   "metadata": {},
   "outputs": [
    {
     "name": "stdout",
     "output_type": "stream",
     "text": [
      "<class 'bioinformatics_toolkit.RNASequence'>: UGCCGGUAUCCUGAAACUUUCGUGGCGUAGGGCAGGCUAGACGCUUCAAUUGGUUCUACGGCGGACCAAUCAUGGUACCACCCCCUGGUGUACCCUUAGGGACCACGACAC\n"
     ]
    }
   ],
   "source": [
    "DNA_seq = DNASequence(my_DNA_seq)\n",
    "my_RNA_seq = str(DNA_seq.transcribe())\n",
    "print(f'{type(DNA_seq.transcribe())}: {DNA_seq.transcribe()}')"
   ]
  },
  {
   "cell_type": "markdown",
   "id": "3d40afcc-f011-4a6a-b347-4bd357bdb097",
   "metadata": {},
   "source": [
    "### RNASequence"
   ]
  },
  {
   "cell_type": "code",
   "execution_count": 18,
   "id": "309fe801-7e95-48e4-b098-a95d25d3813a",
   "metadata": {},
   "outputs": [
    {
     "name": "stdout",
     "output_type": "stream",
     "text": [
      "ACGGCCAUAGGACUUUGAAAGCACCGCAUCCCGUCCGAUCUGCGAAGUUAACCAAGAUGCCGCCUGGUUAGUACCAUGGUGGGGGACCACAUGGGAAUCCCUGGUGCUGUG\n"
     ]
    }
   ],
   "source": [
    "RNA_seq = RNASequence(my_RNA_seq)\n",
    "print(RNA_seq.complement())"
   ]
  },
  {
   "cell_type": "markdown",
   "id": "df190a68-d49e-4e8d-9b7e-aa9ad2dba629",
   "metadata": {},
   "source": [
    "### AminoAcidSequence"
   ]
  },
  {
   "cell_type": "code",
   "execution_count": 19,
   "id": "31a41c3c-a211-48f6-be31-4611ff6a7d4d",
   "metadata": {},
   "outputs": [
    {
     "data": {
      "text/plain": [
       "True"
      ]
     },
     "execution_count": 19,
     "metadata": {},
     "output_type": "execute_result"
    }
   ],
   "source": [
    "amino_acid_seq = AminoAcidSequence(genscan_result.cds_list[1])\n",
    "amino_acid_seq.check_alphabet()"
   ]
  },
  {
   "cell_type": "code",
   "execution_count": 20,
   "id": "068e09d0-a996-4b9f-89d3-ce4d993552cc",
   "metadata": {},
   "outputs": [
    {
     "data": {
      "text/plain": [
       "43076"
      ]
     },
     "execution_count": 20,
     "metadata": {},
     "output_type": "execute_result"
    }
   ],
   "source": [
    "amino_acid_seq.count_molecular_weight()"
   ]
  },
  {
   "cell_type": "code",
   "execution_count": null,
   "id": "c80f3ca7-25f3-4825-ab81-79f8ec1b1df4",
   "metadata": {},
   "outputs": [],
   "source": []
  }
 ],
 "metadata": {
  "kernelspec": {
   "display_name": "Python 3 (ipykernel)",
   "language": "python",
   "name": "python3"
  },
  "language_info": {
   "codemirror_mode": {
    "name": "ipython",
    "version": 3
   },
   "file_extension": ".py",
   "mimetype": "text/x-python",
   "name": "python",
   "nbconvert_exporter": "python",
   "pygments_lexer": "ipython3",
   "version": "3.11.5"
  }
 },
 "nbformat": 4,
 "nbformat_minor": 5
}
